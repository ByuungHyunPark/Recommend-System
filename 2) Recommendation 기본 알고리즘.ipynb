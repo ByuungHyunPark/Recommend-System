{
 "cells": [
  {
   "cell_type": "markdown",
   "metadata": {},
   "source": [
    "https://www.fun-coding.org/recommend_basic2.html\n",
    "\n",
    "--출처 : 잔재미코딩"
   ]
  },
  {
   "cell_type": "markdown",
   "metadata": {},
   "source": [
    "# 2. Recommendation 기본 알고리즘"
   ]
  },
  {
   "cell_type": "markdown",
   "metadata": {},
   "source": [
    "### 2.1. Popularity , High Rated Based(가장 단순함)\n",
    "- 가장 쉽게 인기도 , 즉 높은 평점을 갖는 item을 추천 가능\n",
    "- 모두에게 동일한 item이 추천 됨"
   ]
  },
  {
   "cell_type": "code",
   "execution_count": 1,
   "metadata": {},
   "outputs": [],
   "source": [
    "ratings = {\n",
    "     'Dave' : {'달콤한인생':5, '범죄도시':3, '샤인':3},\n",
    "     'David':{'달콤한인생':5,'범죄도시':1,'샤인':4},\n",
    "     'Alex':{'달콤한인생':0,'범죄도시':4,'샤인':5},\n",
    "     'Andy':{'달콤한인생':2,'범죄도시':1,'샤인':5}   \n",
    "}"
   ]
  },
  {
   "cell_type": "markdown",
   "metadata": {},
   "source": [
    "##### 영화중 가장 평점이 높은 순으로 출력위해 , 가장높은 두 영화 출력\n",
    "- 너무 단순,, 그냥 개인화 없이 누구에게나 가장 인기있는종목 추천"
   ]
  },
  {
   "cell_type": "code",
   "execution_count": 17,
   "metadata": {},
   "outputs": [
    {
     "name": "stdout",
     "output_type": "stream",
     "text": [
      "{'달콤한인생': 3.0, '범죄도시': 2.25, '샤인': 4.25}\n"
     ]
    }
   ],
   "source": [
    "movie_dict = dict()\n",
    "\n",
    "for rating in ratings:\n",
    "    for movie in ratings[rating].keys():\n",
    "        if movie not in movie_dict:\n",
    "            movie_dict[movie] = ratings[rating][movie]\n",
    "        else:\n",
    "            movie_dict[movie] = (movie_dict[movie] + ratings[rating][movie])\n",
    "            \n",
    "for movie in ratings[rating].keys():\n",
    "    movie_dict[movie] = movie_dict[movie]/4\n",
    "    \n",
    "print(movie_dict)"
   ]
  },
  {
   "cell_type": "code",
   "execution_count": 23,
   "metadata": {},
   "outputs": [
    {
     "name": "stdout",
     "output_type": "stream",
     "text": [
      "[('샤인', 4.25), ('달콤한인생', 3.0)]\n"
     ]
    }
   ],
   "source": [
    "import operator\n",
    "\n",
    "#Item값(평점)을 기반으로 정렬\n",
    "sorted_x = sorted(movie_dict.items() , key = operator.itemgetter(1) , reverse = True)\n",
    "print(sorted_x[:2])"
   ]
  },
  {
   "cell_type": "markdown",
   "metadata": {},
   "source": [
    "### 2.2 Collaborative Filtering\n",
    "- 1, 데이터 구성 : 사용자가 입력한 선호도(평점)을 사용하여 사용자-항목 선호도(평점) 행렬을 만든다.\n",
    "- 2. 유사도 계산 : 1 단계에서 만들어진 행렬을 사용하여 사용자들 간의 유사도를 계산한다.\n",
    "- 3. 예측 값 계산 및 추천 목록 생성 : 사용자들 간의 유사도를 바탕으로 모든 항목에 대해 예측 값을 계산하고 높은 예측 값을 갖는 상위 N개의 추천 목록을 생성한다."
   ]
  },
  {
   "cell_type": "markdown",
   "metadata": {},
   "source": [
    "###  1. 데이터 구성"
   ]
  },
  {
   "cell_type": "code",
   "execution_count": 25,
   "metadata": {},
   "outputs": [],
   "source": [
    "ratings={\n",
    "     'Dave':{'달콤한인생':5,'범죄도시':3,'샤인':3},\n",
    "     'David':{'달콤한인생':2,'범죄도시':1,'샤인':4},\n",
    "     'Alex':{'범죄도시':4,'샤인':5},\n",
    "     'Andy':{'달콤한인생':2,'범죄도시':1,'샤인':5}\n",
    "}\n"
   ]
  },
  {
   "cell_type": "code",
   "execution_count": 26,
   "metadata": {},
   "outputs": [
    {
     "data": {
      "text/plain": [
       "{'달콤한인생': 5, '범죄도시': 3, '샤인': 3}"
      ]
     },
     "execution_count": 26,
     "metadata": {},
     "output_type": "execute_result"
    }
   ],
   "source": [
    "ratings.get('Dave')"
   ]
  },
  {
   "cell_type": "code",
   "execution_count": 28,
   "metadata": {},
   "outputs": [
    {
     "data": {
      "text/plain": [
       "{'달콤한인생': 5, '범죄도시': 3, '샤인': 3}"
      ]
     },
     "execution_count": 28,
     "metadata": {},
     "output_type": "execute_result"
    }
   ],
   "source": [
    "ratings['Dave']"
   ]
  },
  {
   "cell_type": "markdown",
   "metadata": {},
   "source": [
    "### 2. 유사도 거리(피타고라스 공식 활용)"
   ]
  },
  {
   "cell_type": "code",
   "execution_count": 29,
   "metadata": {},
   "outputs": [],
   "source": [
    "import math\n",
    "def sim(i, j):\n",
    "    return math.sqrt(pow(i,2) + pow(j,2))"
   ]
  },
  {
   "cell_type": "code",
   "execution_count": 36,
   "metadata": {},
   "outputs": [
    {
     "name": "stdout",
     "output_type": "stream",
     "text": [
      "var1 :  3 \n",
      "var2 :  0\n"
     ]
    }
   ],
   "source": [
    "var1 = ratings['Alex']['범죄도시'] - ratings['Andy']['범죄도시']\n",
    "var2 = ratings['Alex']['샤인'] - ratings['Andy']['샤인']\n",
    "print('var1 : ', var1, '\\nvar2 : ',var2)"
   ]
  },
  {
   "cell_type": "code",
   "execution_count": 37,
   "metadata": {},
   "outputs": [
    {
     "data": {
      "text/plain": [
       "3.0"
      ]
     },
     "execution_count": 37,
     "metadata": {},
     "output_type": "execute_result"
    }
   ],
   "source": [
    "sim(var1,  var2)"
   ]
  },
  {
   "cell_type": "markdown",
   "metadata": {},
   "source": [
    "### 3. Alex가 평가한 범죄도시 , 샤인을 모두 평가한 사용자와 모두 거리 구하기(유사도 구하기)"
   ]
  },
  {
   "cell_type": "code",
   "execution_count": 38,
   "metadata": {},
   "outputs": [
    {
     "name": "stdout",
     "output_type": "stream",
     "text": [
      "Dave  :  2.23606797749979\n",
      "David  :  3.1622776601683795\n",
      "Andy  :  3.0\n"
     ]
    }
   ],
   "source": [
    "for i in ratings:\n",
    "    if i!='Alex':\n",
    "        num1 = ratings.get('Alex').get('범죄도시') - ratings.get(i).get('범죄도시')\n",
    "        num2 = ratings.get('Alex').get('샤인') - ratings.get(i).get('샤인')\n",
    "        print(i, \" : \", sim(num1, num2))"
   ]
  },
  {
   "cell_type": "markdown",
   "metadata": {},
   "source": [
    "### 4. Dave가 평가한 범죄도시와 샤인 모두 평가한 사용자와의 거리를 구해서 , 가장 Dave와 유사한 사용자 구하기"
   ]
  },
  {
   "cell_type": "code",
   "execution_count": 40,
   "metadata": {},
   "outputs": [
    {
     "name": "stdout",
     "output_type": "stream",
     "text": [
      "David  :  0.3090169943749474\n",
      "Alex  :  0.3090169943749474\n",
      "Andy  :  0.2612038749637414\n"
     ]
    }
   ],
   "source": [
    "for i in ratings:\n",
    "    if i!='Dave':\n",
    "        num1 = ratings.get('Dave').get('범죄도시') - ratings.get(i).get('범죄도시')\n",
    "        num2 = ratings.get('Dave').get('샤인') - ratings.get(i).get('샤인')\n",
    "        print(i, \" : \" , 1 / (1 + sim(num1, num2)))"
   ]
  }
 ],
 "metadata": {
  "kernelspec": {
   "display_name": "Python 3",
   "language": "python",
   "name": "python3"
  },
  "language_info": {
   "codemirror_mode": {
    "name": "ipython",
    "version": 3
   },
   "file_extension": ".py",
   "mimetype": "text/x-python",
   "name": "python",
   "nbconvert_exporter": "python",
   "pygments_lexer": "ipython3",
   "version": "3.7.6"
  }
 },
 "nbformat": 4,
 "nbformat_minor": 4
}
