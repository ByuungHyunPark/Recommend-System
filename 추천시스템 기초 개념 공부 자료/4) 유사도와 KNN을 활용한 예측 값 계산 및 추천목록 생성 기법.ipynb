{
 "cells": [
  {
   "cell_type": "markdown",
   "metadata": {},
   "source": [
    "https://www.fun-coding.org/recommend_basic4.html"
   ]
  },
  {
   "cell_type": "markdown",
   "metadata": {},
   "source": [
    "# 4. 유사도와 knn을 활용한 예측 값 계산 및 추천 목록 생성 기법\n",
    "- 사용자들 간의 유사도를 바탕으로 모든 항목에 대해 예측 값을 계산하고 높은 예측 값을 갖는 상위 N개의 추천 목록을 생성"
   ]
  },
  {
   "cell_type": "markdown",
   "metadata": {},
   "source": [
    "### K Nearest Neighbors(KNN) 가중치 예측 기법\n",
    "- 유사도가 구해지면 평점을 예측하고자 하는 사용자(또는 상품)과 유사도가 큰 K 개의 사용자(또는 상품)벡터를 사용하여 가중 평균을 구해서 가중치를 예측"
   ]
  },
  {
   "attachments": {
    "image.png": {
     "image/png": "[encoded data removed]"
    }
   },
   "cell_type": "markdown",
   "metadata": {},
   "source": [
    "### 4.1 KNN Baxic\n",
    "- 평점들을 단순히 가중 평균 한다. 다음 식에서 $N^k$는 $k$개의 가장 유사도가 큰 벡터의 집합이다.\n",
    "\n",
    "![image.png](attachment:image.png)\n",
    "\n",
    "- 1. 대상과 가장 유사도가 높은 k의 대상과 영화 평점과 유사도를 통해 추측평점(유사도 x (타인의 영화평점)을 구한다.\n",
    "- 2. 추측평점의 총합을 구한 후,\n",
    "- 3. 추측평점 총합계/유사도 합계를 통해 예상평점을 뽑아낼 수 있다."
   ]
  },
  {
   "cell_type": "code",
   "execution_count": 1,
   "metadata": {},
   "outputs": [],
   "source": [
    "import math \n",
    "\n",
    "# 1. 코사인 유사도\n",
    "def sim_cosine(data , name1, name2):\n",
    "    sum_name1 = 0\n",
    "    sum_name2 = 0\n",
    "    sum_name1_name2 = 0\n",
    "    count = 0\n",
    "    \n",
    "    for movies in data[name1]:\n",
    "        if movies in data[name2]: #같은 영화를 봤다면\n",
    "            sum_name1 += pow(data[name1][movies], 2)\n",
    "            sum_name2 += pow(data[name2][movies], 2)\n",
    "            \n",
    "            print('sum_name1 : {} \\nsum_name2 : {}\\n'.format(sum_name1, sum_name2))\n",
    "            sum_name1_name2 += data[name1][movies]*data[name2][movies]\n",
    "\n",
    "    return sum_name1_name2 / (math.sqrt(sum_name1)*math.sqrt(sum_name2))\n",
    "\n",
    "\n",
    "#2. 피어슨 상관계수 유사도\n",
    "def sim_pearson(data, name1, name2):\n",
    "    avg_name1 = 0\n",
    "    avg_name2 = 0\n",
    "    count = 0\n",
    "    for movies in data[name1]:\n",
    "        if movies in data[name2]: #같은 영화를 봤다면\n",
    "            avg_name1 = data[name1][movies]\n",
    "            avg_name2 = data[name2][movies]\n",
    "            count += 1\n",
    "    \n",
    "    avg_name1 = avg_name1 / count\n",
    "    avg_name2 = avg_name2 / count\n",
    "    \n",
    "    sum_name1 = 0\n",
    "    sum_name2 = 0\n",
    "    sum_name1_name2 = 0\n",
    "    count = 0\n",
    "    for movies in data[name1]:\n",
    "        if movies in data[name2]: #같은 영화를 봤다면\n",
    "            sum_name1 += pow(data[name1][movies] - avg_name1, 2)\n",
    "            sum_name2 += pow(data[name2][movies] - avg_name2, 2)\n",
    "            sum_name1_name2 += (data[name1][movies] - avg_name1) * (data[name2][movies] - avg_name2)\n",
    "    \n",
    "    return sum_name1_name2 / (math.sqrt(sum_name1)*math.sqrt(sum_name2))\n",
    "\n",
    "\n",
    "def top_match(data, name, index=3, sim_function=sim_pearson):\n",
    "    li=[]\n",
    "    for i in data: #딕셔너리를 돌고\n",
    "        if name!=i: #자기 자신이 아닐때만\n",
    "            li.append((sim_function(data,name,i),i)) #sim_function()을 통해 상관계수를 구하고 li[]에 추가\n",
    "    li.sort() #오름차순\n",
    "    li.reverse() #내림차순\n",
    "    return li[:index]"
   ]
  },
  {
   "cell_type": "code",
   "execution_count": 2,
   "metadata": {},
   "outputs": [],
   "source": [
    "ratings_expand = {\n",
    "    '마동석': {\n",
    "        '택시운전사': 3.5,\n",
    "        '남한산성': 1.5,\n",
    "        '킹스맨:골든서클': 3.0,\n",
    "        '범죄도시': 3.5,\n",
    "        '아이 캔 스피크': 2.5,\n",
    "        '꾼': 3.0,\n",
    "    },\n",
    "    '이정재': {\n",
    "        '택시운전사': 5.0,\n",
    "        '남한산성': 4.5,\n",
    "        '킹스맨:골든서클': 0.5,\n",
    "        '범죄도시': 1.5,\n",
    "        '아이 캔 스피크': 4.5,\n",
    "        '꾼': 5.0,\n",
    "    },\n",
    "    '윤계상': {\n",
    "        '택시운전사': 3.0,\n",
    "        '남한산성': 2.5,\n",
    "        '킹스맨:골든서클': 1.5,\n",
    "        '범죄도시': 3.0,\n",
    "        '꾼': 3.0,\n",
    "        '아이 캔 스피크': 3.5,\n",
    "    },\n",
    "    '설경구': {\n",
    "        '택시운전사': 2.5,\n",
    "        '남한산성': 3.0,\n",
    "        '범죄도시': 4.5,\n",
    "        '꾼': 4.0,\n",
    "    },\n",
    "    '최홍만': {\n",
    "        '남한산성': 4.5,\n",
    "        '킹스맨:골든서클': 3.0,\n",
    "        '꾼': 4.5,\n",
    "        '범죄도시': 3.0,\n",
    "        '아이 캔 스피크': 2.5,\n",
    "    },\n",
    "    '홍수환': {\n",
    "        '택시운전사': 3.0,\n",
    "        '남한산성': 4.0,\n",
    "        '킹스맨:골든서클': 1.0,\n",
    "        '범죄도시': 3.0,\n",
    "        '꾼': 3.5,\n",
    "        '아이 캔 스피크': 2.0,\n",
    "    },\n",
    "    '나원탁': {\n",
    "        '택시운전사': 3.0,\n",
    "        '남한산성': 4.0,\n",
    "        '꾼': 3.0,\n",
    "        '범죄도시': 5.0,\n",
    "        '아이 캔 스피크': 3.5,\n",
    "    },\n",
    "    '소이현': {\n",
    "        '남한산성': 4.5, \n",
    "        '아이 캔 스피크': 1.0,\n",
    "        '범죄도시': 4.0\n",
    "    }\n",
    "}"
   ]
  },
  {
   "cell_type": "code",
   "execution_count": 3,
   "metadata": {},
   "outputs": [
    {
     "name": "stdout",
     "output_type": "stream",
     "text": [
      "{'택시운전사': 3.5, '남한산성': 1.5, '킹스맨:골든서클': 3.0, '범죄도시': 3.5, '아이 캔 스피크': 2.5, '꾼': 3.0}\n",
      "{'택시운전사': 5.0, '남한산성': 4.5, '킹스맨:골든서클': 0.5, '범죄도시': 1.5, '아이 캔 스피크': 4.5, '꾼': 5.0}\n",
      "{'택시운전사': 3.0, '남한산성': 2.5, '킹스맨:골든서클': 1.5, '범죄도시': 3.0, '꾼': 3.0, '아이 캔 스피크': 3.5}\n",
      "{'택시운전사': 2.5, '남한산성': 3.0, '범죄도시': 4.5, '꾼': 4.0}\n",
      "{'남한산성': 4.5, '킹스맨:골든서클': 3.0, '꾼': 4.5, '범죄도시': 3.0, '아이 캔 스피크': 2.5}\n",
      "{'택시운전사': 3.0, '남한산성': 4.0, '킹스맨:골든서클': 1.0, '범죄도시': 3.0, '꾼': 3.5, '아이 캔 스피크': 2.0}\n",
      "{'택시운전사': 3.0, '남한산성': 4.0, '꾼': 3.0, '범죄도시': 5.0, '아이 캔 스피크': 3.5}\n",
      "{'남한산성': 4.5, '아이 캔 스피크': 1.0, '범죄도시': 4.0}\n"
     ]
    }
   ],
   "source": [
    "import pandas as pd\n",
    "for i in list(ratings_expand):\n",
    "    set_col = []\n",
    "    print(ratings_expand[i])"
   ]
  },
  {
   "cell_type": "code",
   "execution_count": 4,
   "metadata": {},
   "outputs": [],
   "source": [
    "def getRecommendation (data , person, k = 3 , sim_function = sim_pearson):\n",
    "    \n",
    "    result = top_match(data , person , k)\n",
    "    \n",
    "    score = 0     #평점 합을 위한 변수\n",
    "    li = list()   #리턴을 위한 리스트\n",
    "    score_dic = dict() # 유사도 총합을 위한 dic\n",
    "    sim_dic = dict()   # 평점 총합을 위한 dic\n",
    "    \n",
    "    for sim, name in result:\n",
    "        print(sim, name)\n",
    "        if sim <0 : continue # 유사도가 양수인 사람만\n",
    "        for movie in data[name]:\n",
    "            if movie not in data[person]: #name이 평가를 내리지 않은 영화\n",
    "                score += sim * data[name][movie]  #그 사람의 평점 * 유사도\n",
    "                score_dic.setdefault(movie , 0)  #기본값 설정\n",
    "                score_dic[movie] += score  #합계 구함\n",
    "                \n",
    "                #조건에 맞는 사람의 유사도의 누적합을 구한다\n",
    "                sim_dic.setdefault(movie , 0)\n",
    "                sim_dic[movie] += sim\n",
    "                \n",
    "            score = 0   #영화가 바뀌었으니 초기화한다.\n",
    "    for key in score_dic:\n",
    "        score_dic[key] = score_dic[key] / sim_dic[key]  #평점 총합 / 유사도 총합\n",
    "        li.append((score_dic[key] , key))  #list((tuple))의 리턴을 위해서.\n",
    "        \n",
    "    li.sort()    #오름차순\n",
    "    li.reverse()  #내림차순\n",
    "    return li"
   ]
  },
  {
   "cell_type": "code",
   "execution_count": 5,
   "metadata": {},
   "outputs": [
    {
     "name": "stdout",
     "output_type": "stream",
     "text": [
      "0.9330597055272909 홍수환\n",
      "0.8909876971472571 최홍만\n",
      "0.8452277090445156 나원탁\n"
     ]
    },
    {
     "data": {
      "text/plain": [
       "[(3.675468553454334, '꾼'),\n",
       " (3.0000000000000004, '택시운전사'),\n",
       " (1.976934805357391, '킹스맨:골든서클')]"
      ]
     },
     "execution_count": 5,
     "metadata": {},
     "output_type": "execute_result"
    }
   ],
   "source": [
    "getRecommendation(ratings_expand, '소이현')\n"
   ]
  },
  {
   "cell_type": "code",
   "execution_count": 6,
   "metadata": {},
   "outputs": [
    {
     "name": "stdout",
     "output_type": "stream",
     "text": [
      "0.9608329054174726 홍수환\n",
      "0.9517663735117331 소이현\n"
     ]
    },
    {
     "data": {
      "text/plain": [
       "[(3.0, '택시운전사')]"
      ]
     },
     "execution_count": 6,
     "metadata": {},
     "output_type": "execute_result"
    }
   ],
   "source": [
    "getRecommendation(ratings_expand, '최홍만', k=2, sim_function=sim_cosine)"
   ]
  },
  {
   "attachments": {
    "image.png": {
     "image/png": "[encoded data removed]"
    }
   },
   "cell_type": "markdown",
   "metadata": {},
   "source": [
    "### 4.2. KNN With Means\n",
    "- 평점들을 평균값 기준으로 가중평균한다.\n",
    "\n",
    "![image.png](attachment:image.png)"
   ]
  },
  {
   "cell_type": "code",
   "execution_count": 7,
   "metadata": {},
   "outputs": [],
   "source": [
    "for name in ratings_expand:\n",
    "    sum = 0\n",
    "    count = 0\n",
    "    for movies in ratings_expand[name]:\n",
    "        sum += ratings_expand[name][movies]\n",
    "        count += 1\n",
    "    ratings_expand[name]['avg'] = sum / count"
   ]
  },
  {
   "cell_type": "code",
   "execution_count": 8,
   "metadata": {},
   "outputs": [
    {
     "data": {
      "text/plain": [
       "{'마동석': {'택시운전사': 3.5,\n",
       "  '남한산성': 1.5,\n",
       "  '킹스맨:골든서클': 3.0,\n",
       "  '범죄도시': 3.5,\n",
       "  '아이 캔 스피크': 2.5,\n",
       "  '꾼': 3.0,\n",
       "  'avg': 2.8333333333333335},\n",
       " '이정재': {'택시운전사': 5.0,\n",
       "  '남한산성': 4.5,\n",
       "  '킹스맨:골든서클': 0.5,\n",
       "  '범죄도시': 1.5,\n",
       "  '아이 캔 스피크': 4.5,\n",
       "  '꾼': 5.0,\n",
       "  'avg': 3.5},\n",
       " '윤계상': {'택시운전사': 3.0,\n",
       "  '남한산성': 2.5,\n",
       "  '킹스맨:골든서클': 1.5,\n",
       "  '범죄도시': 3.0,\n",
       "  '꾼': 3.0,\n",
       "  '아이 캔 스피크': 3.5,\n",
       "  'avg': 2.75},\n",
       " '설경구': {'택시운전사': 2.5, '남한산성': 3.0, '범죄도시': 4.5, '꾼': 4.0, 'avg': 3.5},\n",
       " '최홍만': {'남한산성': 4.5,\n",
       "  '킹스맨:골든서클': 3.0,\n",
       "  '꾼': 4.5,\n",
       "  '범죄도시': 3.0,\n",
       "  '아이 캔 스피크': 2.5,\n",
       "  'avg': 3.5},\n",
       " '홍수환': {'택시운전사': 3.0,\n",
       "  '남한산성': 4.0,\n",
       "  '킹스맨:골든서클': 1.0,\n",
       "  '범죄도시': 3.0,\n",
       "  '꾼': 3.5,\n",
       "  '아이 캔 스피크': 2.0,\n",
       "  'avg': 2.75},\n",
       " '나원탁': {'택시운전사': 3.0,\n",
       "  '남한산성': 4.0,\n",
       "  '꾼': 3.0,\n",
       "  '범죄도시': 5.0,\n",
       "  '아이 캔 스피크': 3.5,\n",
       "  'avg': 3.7},\n",
       " '소이현': {'남한산성': 4.5, '아이 캔 스피크': 1.0, '범죄도시': 4.0, 'avg': 3.1666666666666665}}"
      ]
     },
     "execution_count": 8,
     "metadata": {},
     "output_type": "execute_result"
    }
   ],
   "source": [
    "ratings_expand\n"
   ]
  },
  {
   "cell_type": "code",
   "execution_count": 9,
   "metadata": {},
   "outputs": [],
   "source": [
    "def getRecommendation (data, person, k=3, sim_function=sim_pearson):\n",
    "    \n",
    "    result = top_match(data, person, k)\n",
    "    \n",
    "    score = 0 # 평점 합을 위한 변수\n",
    "    li = list() # 리턴을 위한 리스트\n",
    "    score_dic = dict() # 유사도 총합을 위한 dic\n",
    "    sim_dic = dict() # 평점 총합을 위한 dic\n",
    "\n",
    "    for sim, name in result: # 튜플이므로 한번에\n",
    "        print(sim, name)\n",
    "        if sim < 0 : continue #유사도가 양수인 사람만\n",
    "        for movie in data[name]: \n",
    "            if movie not in data[person]: #name이 평가를 내리지 않은 영화\n",
    "                score += sim * (data[name][movie] - data[name]['avg']) # 그사람의 영화평점 * 유사도\n",
    "                score_dic.setdefault(movie, 0) # 기본값 설정\n",
    "                score_dic[movie] += score # 합계 구함\n",
    "\n",
    "                # 조건에 맞는 사람의 유사도의 누적합을 구한다\n",
    "                sim_dic.setdefault(movie, 0) \n",
    "                sim_dic[movie] += sim\n",
    "\n",
    "            score = 0  #영화가 바뀌었으니 초기화한다\n",
    "    \n",
    "    for key in score_dic: \n",
    "        score_dic[key] = data[person]['avg'] + (score_dic[key] / sim_dic[key]) # 평점 총합/ 유사도 총합\n",
    "        li.append((score_dic[key],key)) # list((tuple))의 리턴을 위해서.\n",
    "    li.sort() #오름차순\n",
    "    li.reverse() #내림차순\n",
    "    return li"
   ]
  },
  {
   "cell_type": "code",
   "execution_count": 10,
   "metadata": {},
   "outputs": [
    {
     "name": "stdout",
     "output_type": "stream",
     "text": [
      "0.9661614876137535 홍수환\n",
      "0.9438405255065262 최홍만\n",
      "0.9437757473484876 설경구\n"
     ]
    },
    {
     "data": {
      "text/plain": [
       "[(3.91667234143915, '꾼'),\n",
       " (2.7989920841776077, '택시운전사'),\n",
       " (2.0343626946178484, '킹스맨:골든서클')]"
      ]
     },
     "execution_count": 10,
     "metadata": {},
     "output_type": "execute_result"
    }
   ],
   "source": [
    "getRecommendation(ratings_expand, '소이현')\n"
   ]
  },
  {
   "cell_type": "code",
   "execution_count": 11,
   "metadata": {},
   "outputs": [
    {
     "name": "stdout",
     "output_type": "stream",
     "text": [
      "0.9652129842456227 홍수환\n",
      "0.9438405255065262 소이현\n"
     ]
    },
    {
     "data": {
      "text/plain": [
       "[(3.75, '택시운전사')]"
      ]
     },
     "execution_count": 11,
     "metadata": {},
     "output_type": "execute_result"
    }
   ],
   "source": [
    "getRecommendation(ratings_expand, '최홍만', k=2, sim_function=sim_cosine)"
   ]
  },
  {
   "cell_type": "markdown",
   "metadata": {},
   "source": [
    "### 여기가지가 추천시스템에서 사용되는 가장 일반적인 방법"
   ]
  }
 ],
 "metadata": {
  "kernelspec": {
   "display_name": "Python 3",
   "language": "python",
   "name": "python3"
  },
  "language_info": {
   "codemirror_mode": {
    "name": "ipython",
    "version": 3
   },
   "file_extension": ".py",
   "mimetype": "text/x-python",
   "name": "python",
   "nbconvert_exporter": "python",
   "pygments_lexer": "ipython3",
   "version": "3.7.6"
  }
 },
 "nbformat": 4,
 "nbformat_minor": 4
}
