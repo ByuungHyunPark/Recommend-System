{
 "cells": [
  {
   "cell_type": "markdown",
   "metadata": {},
   "source": [
    "https://www.fun-coding.org/recommend_basic1.html\n",
    "\n",
    "--출처 : 잔재미코딩"
   ]
  },
  {
   "cell_type": "markdown",
   "metadata": {},
   "source": [
    "# 추천 시스템이란 ? (Recommendation System)\n",
    "- Selection, Search로 부터의 한단계 진화\n",
    "- item 개수가 한명의 사용자가 한번에 열람 가능 한 경우 , 보통 사용자는 본인 기준에 의해 Selection 함\n",
    "- item 개수가 많아지면 , 사용자는 원하는 query로 search를 시도\n",
    "- item 개수가 많아지면 , 사용자는 원하는 Query가 무엇인지조차 모를 때 , Recommendation 유용\n",
    "- Amazon, Netflix 등이 recommendation으로 엄청난 성장을 이룸"
   ]
  },
  {
   "cell_type": "markdown",
   "metadata": {},
   "source": [
    "### Recommendation 기본 알고리즘 "
   ]
  },
  {
   "cell_type": "markdown",
   "metadata": {},
   "source": [
    "### 1.1 Popularity , High Rated Based(가장 단순함)\n",
    "- 가장 쉽게 인기도 , 즉 높은 평점을 갖는 item 추천 가능\n",
    "- 모두에게 동일한 item이 추천됨"
   ]
  },
  {
   "cell_type": "markdown",
   "metadata": {},
   "source": [
    "### 1.2 Collaborative Filtering (중간단계)\n",
    "- 협업필터링이라고도 불리우며, 단순하지만 상당히 효율적\n",
    "- user & item 간의 rating을 이용하여 사용자끼리의 유사도를 찾음\n",
    "- 특정 user와 유사한 사용자들이 남긴 평점을 기반으로 해당 user의 평점을 예측\n",
    "    - explicit(명백) 한 평점이 있을 경우에는 , 해당 평점을 사용\n",
    "    - 그렇지 않은 경우에는 explicit한 평점으로 변환\n",
    "        - e.g) music domain의 경우에는 , user가 해당 음악을 들을 횟수로 평점으로 변환후 사용\n",
    "- 즉 , 해당 user가 해당 item을 얼마나 좋아할 것인지 수치적으로 예측하는 것을 의미\n",
    "- User - User 또는 Item-Item Similarity를 이용.\n",
    "    - 일반적으로 recommendation이 필요한 시스템에서는 Item개수가 user를 월등히 능가함\n",
    "    - 각각 User-based CF, Item-based CF 라고 함\n",
    "- Similarity\n",
    "    - Euclidean distance , cosine, pearson 등 수학적 유사도 계산방법 사용\n",
    "- similarity 높은 사용자 집단에서 각 사용자들이 남긴 평점을 weighted sum으로 계산해 평점 예측\n",
    "- 또는 해당 사용자의 평균 평점을 similarity가 높은 사용자 집단의 weighted 조정평균과 더하여 평점 예측\n",
    "- 문제점\n",
    "    - __Cold Start Problem__\n",
    "        - 첫 방문한 사용자는 유사한 사용자가 없어서 추천이 힘듦\n",
    "        - 따라서 , Netflix나 왓챠 등에서는 첫 방문시 , 일정 개수 이상의 영화에 평점을 남기는 것을 유도\n",
    "    - __User-Rating sparsity Problem__\n",
    "        - 대부분의 사용자는 평점을 잘 남기지 않는 경향이 있다.\n",
    "        - 이들에게는 개인화가 어렵고 , Popularity based 추천을 하기도 함"
   ]
  },
  {
   "cell_type": "markdown",
   "metadata": {},
   "source": [
    "### 1.3. Personalization (개인화)\n",
    "- 모두에게 동일한 item이 아닌 , 각 개인의 성향에 맞는 item을 추천\n",
    "- user-item rating으로 Collaborative Filtering Algorithm, SVD 등이 사용됨"
   ]
  }
 ],
 "metadata": {
  "kernelspec": {
   "display_name": "Python 3",
   "language": "python",
   "name": "python3"
  },
  "language_info": {
   "codemirror_mode": {
    "name": "ipython",
    "version": 3
   },
   "file_extension": ".py",
   "mimetype": "text/x-python",
   "name": "python",
   "nbconvert_exporter": "python",
   "pygments_lexer": "ipython3",
   "version": "3.7.6"
  }
 },
 "nbformat": 4,
 "nbformat_minor": 4
}
