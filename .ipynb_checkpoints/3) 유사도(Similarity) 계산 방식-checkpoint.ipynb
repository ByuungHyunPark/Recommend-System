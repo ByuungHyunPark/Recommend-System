{
 "cells": [
  {
   "cell_type": "markdown",
   "metadata": {},
   "source": [
    "# 유사도(Similarity) 계산 방식\n",
    "- 3.1 평균제곱차이 유사도(Mean Squared Difference Similarity)\n",
    "- 3.2 코사인 유사도(Cosine Similarity)\n",
    "- 3.3 피어슨 유사도(Pearson Similarity)"
   ]
  },
  {
   "cell_type": "markdown",
   "metadata": {},
   "source": [
    "### 3.1 평균제곱차이 유사도(Mean Squared Difference Similarity)\n",
    "- __User_based Collaborative Filter__ 경우\n",
    "    - 사용자 _u_와 사용자 _v_간의 msd\n",
    "    - 사용자 _u_와 사용자 _v_가 평가한 상품들의 평점간의 차의 제곱/ 사용자_u_와 사용자 _v_가 모두 평가한 상품들의 수\n",
    "   \n",
    "    $$\n",
    "    msd(u,v) = \\frac{1}{|I_{uv}|}\\cdot\\sum_{i\\in_{I_{uv}}}({r_{ui} - r_{vi}})^2\n",
    "    $$\n",
    "    - $I_{uv}$는 사용자 $u$와 사용자 $v$ 모두에 의해 평가된 상품의 집합\n",
    "    - $|I_{uv}|$는 사용자 $u$와 사용자 $v$ 모두에 의해 평가된 상품의 수\n",
    "<br><br>\n",
    "- __Item-based Collaborative Filter__ 경우\n",
    "    - 상품 $i$와 상품$j$ 간의 msd\n",
    "      $$\n",
    "    msd(u,v) = \\frac{1}{|I_{uv}|}\\cdot\\sum_{u\\in_{U_{ij}}}({r_{ui} - r_{uj}})^2\n",
    "    $$\n",
    "    - 위 식에서 $U_{ij}$는 상품 $i$와 $j$모두를 평가한 사용자의 집합이고 $|U_{ij}|$는 상품 $i$와 상품$j$ 모두를 평가한 사용자의 수"
   ]
  },
  {
   "cell_type": "markdown",
   "metadata": {},
   "source": [
    "# Mean Squared Diffrence Similarity\n",
    "- Mean Squared Difference (msd)의 역수로 계산\n",
    "- 차이가 클수록 Similarity 값은 작아진다!\n",
    "- Mean Squared Difference Similarity 식에서는 MSD가 0이 되는 경우를 대응하기 위해 1을 무조건 더해줌\n",
    "$$Msd Sim(u,v) = \\frac{1}{msd(u,v) + 1}$$\n",
    "$$Msd Sim(i,j) = \\frac{1}{msd(i,j) + 1}$$"
   ]
  },
  {
   "cell_type": "code",
   "execution_count": 8,
   "metadata": {},
   "outputs": [],
   "source": [
    "ratings={\n",
    "     'Dave':{'달콤한인생':5,'범죄도시':3,'샤인':3},\n",
    "     'David':{'달콤한인생':2,'범죄도시':1,'샤인':4},\n",
    "     'Alex':{'범죄도시':4,'샤인':5},\n",
    "     'Andy':{'달콤한인생':2,'범죄도시':1,'샤인':5}\n",
    "}"
   ]
  },
  {
   "cell_type": "code",
   "execution_count": 22,
   "metadata": {},
   "outputs": [],
   "source": [
    "def sim_msd(data , name1 , name2):\n",
    "    sum = 0\n",
    "    count = 0\n",
    "    for movies in data[name1]:\n",
    "        if movies in data[name2]: #같은 영화를 봤다면\n",
    "            sum += pow(data[name1][movies]- data[name2][movies], 2)\n",
    "            count += 1\n",
    "\n",
    "    msd =  (sum / count)\n",
    "    print('{}와 {}의 msd : {}'.format(name1, name2, msd))\n",
    "    \n",
    "    return 1 / ( msd  + 1)"
   ]
  },
  {
   "cell_type": "code",
   "execution_count": 23,
   "metadata": {},
   "outputs": [
    {
     "name": "stdout",
     "output_type": "stream",
     "text": [
      "Dave와 Alex의 msd : 2.5\n"
     ]
    },
    {
     "data": {
      "text/plain": [
       "0.2857142857142857"
      ]
     },
     "execution_count": 23,
     "metadata": {},
     "output_type": "execute_result"
    }
   ],
   "source": [
    "sim_msd(ratings , 'Dave', 'Alex')"
   ]
  },
  {
   "cell_type": "markdown",
   "metadata": {},
   "source": [
    "### 3.2 코사인 유사도(Cosine Similarity)\n",
    "- 설명은 생략"
   ]
  },
  {
   "cell_type": "markdown",
   "metadata": {},
   "source": [
    "사용자 $u$와 사용자 $v$간의 Cosine Similarity : 두 사용자가 모두 평가한 상품의 평점을 사용해서 계산\n",
    "$$ cosineSim(u,v) = \\frac{\\sum_{i\\in{I_{uv}}}r_{ui}\\cdot r_{vi}} {\\sqrt{\\sum_{i\\in{I_{uv}}}{r_{ui}^2}}\\cdot \\sqrt{\\sum_{i\\in{I_{uv}}}{r_{vi}^2}}} $$"
   ]
  },
  {
   "cell_type": "code",
   "execution_count": 35,
   "metadata": {},
   "outputs": [],
   "source": [
    "import math \n",
    "def sim_cosine(data , name1, name2):\n",
    "    sum_name1 = 0\n",
    "    sum_name2 = 0\n",
    "    sum_name1_name2 = 0\n",
    "    count = 0\n",
    "    \n",
    "    for movies in data[name1]:\n",
    "        if movies in data[name2]: #같은 영화를 봤다면\n",
    "            sum_name1 += pow(data[name1][movies], 2)\n",
    "            sum_name2 += pow(data[name2][movies], 2)\n",
    "            \n",
    "            print('sum_name1 : {} \\nsum_name2 : {}\\n'.format(sum_name1, sum_name2))\n",
    "            sum_name1_name2 += data[name1][movies]*data[name2][movies]\n",
    "\n",
    "    return sum_name1_name2 / (math.sqrt(sum_name1)*math.sqrt(sum_name2))\n"
   ]
  },
  {
   "cell_type": "code",
   "execution_count": 36,
   "metadata": {
    "scrolled": true
   },
   "outputs": [
    {
     "name": "stdout",
     "output_type": "stream",
     "text": [
      "sum_name1 : 9 \n",
      "sum_name2 : 16\n",
      "\n",
      "sum_name1 : 18 \n",
      "sum_name2 : 41\n",
      "\n"
     ]
    },
    {
     "data": {
      "text/plain": [
       "0.9938837346736189"
      ]
     },
     "execution_count": 36,
     "metadata": {},
     "output_type": "execute_result"
    }
   ],
   "source": [
    "sim_cosine(ratings, 'Dave','Alex')"
   ]
  }
 ],
 "metadata": {
  "kernelspec": {
   "display_name": "Python 3",
   "language": "python",
   "name": "python3"
  },
  "language_info": {
   "codemirror_mode": {
    "name": "ipython",
    "version": 3
   },
   "file_extension": ".py",
   "mimetype": "text/x-python",
   "name": "python",
   "nbconvert_exporter": "python",
   "pygments_lexer": "ipython3",
   "version": "3.7.6"
  }
 },
 "nbformat": 4,
 "nbformat_minor": 4
}
