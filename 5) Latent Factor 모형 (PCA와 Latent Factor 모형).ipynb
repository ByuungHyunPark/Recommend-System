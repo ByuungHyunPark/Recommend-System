{
 "cells": [
  {
   "cell_type": "markdown",
   "metadata": {},
   "source": [
    "# 5. Latent Factor 모형 (PCA와 Latent Factor 모형)\n",
    "- Latent Factor 모형은 복잡한 사용자/영화 특성을 몇개의 벡터로 간략화 해보겠다는 모형\n",
    "- 평점을 사용자 요인 행렬 , 별점 요인 행렬의 곱으로 이루어진 행렬로 보고 , SVD등과 같은 방식으로 평점 예측\n",
    "- 어떤 특징 ?\n",
    "    - 특정한 장르를 가진 영화 (예 : 코미디 , 액션 , 드라마)에 대한 사용자 선호도\n",
    "    - 사용자 요인 벡터 (예 : 코미디(1) , 액션(-3), 드라마(3))\n",
    "    - 영화 장르 요소 (예 : 코미디(1), 액션(3), 드라마(3))"
   ]
  }
 ],
 "metadata": {
  "kernelspec": {
   "display_name": "Python 3",
   "language": "python",
   "name": "python3"
  },
  "language_info": {
   "codemirror_mode": {
    "name": "ipython",
    "version": 3
   },
   "file_extension": ".py",
   "mimetype": "text/x-python",
   "name": "python",
   "nbconvert_exporter": "python",
   "pygments_lexer": "ipython3",
   "version": "3.7.6"
  }
 },
 "nbformat": 4,
 "nbformat_minor": 4
}
